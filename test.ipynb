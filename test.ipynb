{
 "cells": [
  {
   "cell_type": "markdown",
   "metadata": {},
   "source": [
    "# test for vertex ai connection"
   ]
  },
  {
   "cell_type": "code",
   "execution_count": null,
   "metadata": {},
   "outputs": [],
   "source": [
    "import vertexai\n",
    "from vertexai.generative_models import GenerativeModel\n",
    "\n",
    "# Set proxy if needed\n",
    "import os\n",
    "os.environ['HTTP_PROXY'] = 'http://127.0.0.1:10809'\n",
    "os.environ['HTTPs_PROXY'] = 'http://127.0.0.1:10809'\n",
    "\n",
    "# TODO(developer): Update and un-comment below line\n",
    "project_id = \"log-analysis-433902\"\n",
    "\n",
    "vertexai.init(project=project_id, location=\"us-central1\")\n",
    "\n",
    "model = GenerativeModel(\"gemini-1.5-flash-001\")\n",
    "\n",
    "response = model.generate_content(\n",
    "    \"What's a good name for a flower shop that specializes in selling bouquets of dried flowers?\"\n",
    ")\n",
    "\n",
    "print(response.text)"
   ]
  },
  {
   "cell_type": "markdown",
   "metadata": {},
   "source": [
    "# test for regular expression"
   ]
  },
  {
   "cell_type": "code",
   "execution_count": null,
   "metadata": {},
   "outputs": [],
   "source": [
    "import re"
   ]
  },
  {
   "cell_type": "code",
   "execution_count": null,
   "metadata": {},
   "outputs": [],
   "source": [
    "text = '''这里是文本，其中包含URL和IP地址，例如：http://www.example.com和 86.193.48.194。\n",
    "Jul 18 03:26:49 combo ftpd[25648]: connection from 211.72.151.162 () at Mon Jul 18 03:26:49 2005\n",
    "ruser= rhost=mail.xmjl.com  user=root\n",
    "ruser= rhost=212-41-230-229.hebragasse.xdsl-line.inode.at\n",
    "ruser= rhost=pppzss.shenzhen.gd.cn\n",
    "ruser= rhost=wsip-24-120-168-221.lv.lv.cox.net'''\n",
    "\n",
    "text = '''62.99.164.82.sh.interxion.inode.at'''"
   ]
  },
  {
   "cell_type": "code",
   "execution_count": null,
   "metadata": {},
   "outputs": [],
   "source": [
    "\n",
    "url_pattern = r'http[s]?://(?:[a-zA-Z]|[0-9]|[$-_@.&+]|[!*\\(\\),]|(?:%[0-9a-fA-F][0-9a-fA-F]))+'\n",
    "rhost_pattern = r'([a-zA-Z0-9.-]+\\.[a-zA-Z]{2,})'\n",
    "# rhost_pattern = r'([a-zA-Z0-9.-]+\\.[a-zA-Z]{2,}|[0-9-]+(?:\\.[0-9]+){3})'\n",
    "ip_pattern = r'\\b(?:\\d{1,3}\\.){3}\\d{1,3}\\b'\n"
   ]
  },
  {
   "cell_type": "code",
   "execution_count": null,
   "metadata": {},
   "outputs": [],
   "source": [
    "\n",
    "urls = re.findall(url_pattern, text)\n",
    "rhost = re.findall(rhost_pattern, text)\n",
    "ips = re.findall(ip_pattern, text)\n",
    "\n",
    "print(\"URLs:\", urls)\n",
    "print(\"IPs:\", ips)\n",
    "print(\"RHOST:\", rhost)"
   ]
  },
  {
   "cell_type": "markdown",
   "metadata": {},
   "source": [
    "# test for read log file"
   ]
  },
  {
   "cell_type": "code",
   "execution_count": null,
   "metadata": {},
   "outputs": [],
   "source": [
    "# with open('data/Linux.txt', 'rb', encoding=\"utf-8\") as f:\n",
    "#     text = f.read()\n",
    "#     print(text)\n",
    "\n",
    "position = 70072\n",
    "with open('data/Linux.txt', 'rb') as f:\n",
    "    for i in range(position-1000, position+1000):\n",
    "        f.seek(i)  # 跳转到指定位置\n",
    "        byte = f.read(1)  # 读取一个字节\n",
    "        print(f\"{byte.decode('utf-8')}\",end=\"\")\n"
   ]
  },
  {
   "cell_type": "markdown",
   "metadata": {},
   "source": [
    "# test for json schema of vertex ai"
   ]
  },
  {
   "cell_type": "code",
   "execution_count": null,
   "metadata": {},
   "outputs": [],
   "source": [
    "import vertexai\n",
    "\n",
    "from vertexai.generative_models import GenerationConfig, GenerativeModel\n",
    "\n",
    "# Set proxy if needed\n",
    "import os\n",
    "os.environ['HTTP_PROXY'] = 'http://127.0.0.1:10809'\n",
    "os.environ['HTTPs_PROXY'] = 'http://127.0.0.1:10809'\n",
    "\n",
    "# TODO(developer): Update and un-comment below line\n",
    "project_id = \"log-extraction\"\n",
    "vertexai.init(project=project_id, location=\"us-central1\")"
   ]
  },
  {
   "cell_type": "code",
   "execution_count": null,
   "metadata": {},
   "outputs": [],
   "source": [
    "\n",
    "# response_schema = {\n",
    "#     \"type\": \"ARRAY\",\n",
    "#     \"items\": {\n",
    "#         \"type\": \"OBJECT\",\n",
    "#         \"properties\": {\n",
    "#             \"Item type\": {\n",
    "#                 \"type\": \"STRING\",\n",
    "#                 \"enum\": [\"IP\", \"URL\", \"Memory\"],\n",
    "#             },\n",
    "#             \"Item content\": {\"type\": \"STRING\"},\n",
    "#         },\n",
    "#         \"required\": [\"Item type\", \"Item content\"],\n",
    "#     },\n",
    "# }\n",
    "response_schema = {\n",
    "    \"type\": \"OBJECT\",\n",
    "    \"properties\": {\n",
    "        \"url\": {\n",
    "            \"type\": \"ARRAY\", \n",
    "            \"items\": {\"type\": \"STRING\"},\n",
    "            },\n",
    "        \"IP\": {\n",
    "            \"type\": \"ARRAY\", \n",
    "            \"items\": {\"type\": \"STRING\"}, \n",
    "            },\n",
    "        \"memory\": {\n",
    "            \"type\": \"ARRAY\", \n",
    "            \"items\": {\"type\": \"STRING\"},\n",
    "            },\n",
    "    },\n",
    "    \"required\": [\"url\", \"IP\", \"memory\"],\n",
    "}\n"
   ]
  },
  {
   "cell_type": "code",
   "execution_count": null,
   "metadata": {},
   "outputs": [],
   "source": [
    "prompt = \"\"\"Given a document, your task is to extract the text value of the following entities: {url(domain)}, {IP}, {compuation resources(memory, cpu)}\n",
    "- The contents must only include text strings found in the document.\n",
    "- The contents only apear in response one time. Please list them in different catagories.\n",
    "Feb 19 11:29:58 combo sshd(pam_unix)[5386]: authentication failure; logname= uid=0 euid=0 tty=NODEVssh ruser= rhost=222.168.14.22 \n",
    "Feb 19 21:28:43 combo sshd(pam_unix)[5447]: authentication failure; logname= uid=0 euid=0 tty=NODEVssh ruser= rhost=211.96.97.37  user=root\n",
    "Feb 20 07:36:03 combo ftpd[5647]: connection from 219.145.93.74 () at Mon Feb 20 07:36:03 2006 \n",
    "\n",
    "Feb 20 12:14:13 combo unix_chkpwd[5702]: check pass; user unknown\n",
    "Feb 20 12:14:13 combo sshd(pam_unix)[5688]: authentication failure; logname= uid=0 euid=0 tty=NODEVssh ruser= rhost=vedgi-gw.rosprint.net \n",
    "\n",
    "Feb 20 12:14:15 combo unix_chkpwd[5706]: check pass; user unknown\n",
    "Feb 20 12:14:15 combo sshd(pam_unix)[5690]: authentication failure; logname= uid=0 euid=0 tty=NODEVssh ruser= rhost=vedgi-gw.rosprint.net \n",
    "\n",
    "Feb 22 01:55:44 combo ftpd[5772]: connection from 210.212.240.242 () at Wed Feb 22 01:55:44 2006 \n",
    "\n",
    "Feb 22 11:46:37 combo sshd(pam_unix)[5989]: authentication failure; logname= uid=0 euid=0 tty=NODEVssh ruser= rhost=203186089173.ctinets.com  user=root\n",
    "\n",
    "Feb 22 13:26:34 combo sshd(pam_unix)[6028]: authentication failure; logname= uid=0 euid=0 tty=NODEVssh ruser= rhost=220.194.58.127  user=root\n",
    "\n",
    "Feb 22 23:41:37 combo ftpd[6043]: connection from 24.229.9.65 (24.229.9.65.res-cmts.sm.ptd.net) at Wed Feb 22 23:41:37 2006 \n",
    "\n",
    "Feb 23 12:02:26 combo sshd(pam_unix)[6064]: authentication failure; logname= uid=0 euid=0 tty=NODEVssh ruser= rhost=80.34.110.175  user=fax\n",
    "Feb 23 12:02:26 combo sshd(pam_unix)[6070]: authentication failure; logname= uid=0 euid=0 tty=NODEVssh ruser= rhost=175.red-80-34-110.staticip.rima-tde.net  user=fax\n",
    "Feb 23 12:02:26 combo sshd(pam_unix)[6072]: authentication failure; logname= uid=0 euid=0 tty=NODEVssh ruser= rhost=175.red-80-34-110.staticip.rima-tde.net  user=fax\n",
    "Feb 23 12:02:26 combo sshd(pam_unix)[6066]: authentication failure; logname= uid=0 euid=0 tty=NODEVssh ruser= rhost=175.red-80-34-110.staticip.rima-tde.net  user=fax\n",
    "Feb 23 12:02:26 combo sshd(pam_unix)[6067]: authentication failure; logname= uid=0 euid=0 tty=NODEVssh ruser= rhost=175.red-80-34-110.staticip.rima-tde.net  user=fax\n",
    "Feb 23 12:02:26 combo sshd(pam_unix)[6073]: authentication failure; logname= uid=0 euid=0 tty=NODEVssh ruser= rhost=175.red-80-34-110.staticip.rima-tde.net  user=fax\n",
    "Feb 23 13:54:46 combo unix_chkpwd[6096]: check pass; user unknown\n",
    "Feb 23 13:54:46 combo sshd(pam_unix)[6076]: authentication failure; logname= uid=0 euid=0 tty=NODEVssh ruser= rhost=66.50.123.66 \n",
    "\"\"\""
   ]
  },
  {
   "cell_type": "code",
   "execution_count": null,
   "metadata": {},
   "outputs": [],
   "source": [
    "\n",
    "model = GenerativeModel(\"gemini-1.5-pro-001\")\n",
    "\n",
    "response = model.generate_content(\n",
    "    prompt,\n",
    "    generation_config=GenerationConfig(\n",
    "        response_mime_type=\"application/json\", response_schema=response_schema\n",
    "    ),\n",
    ")\n",
    "\n",
    "print(response.text)"
   ]
  },
  {
   "cell_type": "markdown",
   "metadata": {},
   "source": [
    "#  pydantic for json validation"
   ]
  },
  {
   "cell_type": "code",
   "execution_count": null,
   "metadata": {},
   "outputs": [],
   "source": [
    "from typing import List\n",
    "\n",
    "from pydantic import BaseModel\n",
    "\n",
    "\n",
    "class Extract(BaseModel):\n",
    "    IP: list[str]\n",
    "    URL: list[str]\n",
    "    memory: list[str]\n",
    "\n",
    "l = Extract(IP=['192.168.1.1', '192.168.1.2'], URL=['http://www.example.com', 'http://www.example.org'], memory=['100', '200'])\n",
    "print(l.IP)\n"
   ]
  }
 ],
 "metadata": {
  "kernelspec": {
   "display_name": "log-ex",
   "language": "python",
   "name": "python3"
  },
  "language_info": {
   "name": "python",
   "version": "3.10.14"
  }
 },
 "nbformat": 4,
 "nbformat_minor": 2
}
