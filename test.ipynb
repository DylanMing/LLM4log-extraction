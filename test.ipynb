{
 "cells": [
  {
   "cell_type": "code",
   "execution_count": 1,
   "metadata": {},
   "outputs": [
    {
     "name": "stdout",
     "output_type": "stream",
     "text": [
      "{'211.57.88.250': 24, '218.28.1.61': 48, '61.199.220.226': 48}\n",
      "{'p15105218.pureserver.info': 30, 'iis.willowtec.com': 84}\n",
      "{'IP': [{'IP': '211.57.88.250', 'count': 24}, {'IP': '218.28.1.61', 'count': 48}, {'IP': '61.199.220.226', 'count': 48}], 'URL': [{'URL': 'p15105218.pureserver.info', 'count': 30}, {'URL': 'iis.willowtec.com', 'count': 84}], 'memory': []}\n"
     ]
    }
   ],
   "source": [
    "datalist = [{ \"IP\": [ { \"IP\": \"211.57.88.250\", \"count\": 8 }, { \"IP\": \"218.28.1.61\", \"count\": 16 }, { \"IP\": \"61.199.220.226\", \"count\": 16 } ], \"URL\": [ { \"URL\": \"p15105218.pureserver.info\", \"count\": 10 }, { \"URL\": \"iis.willowtec.com\", \"count\": 28 } ], \"memory\": [ { \"Memory available\": \"125312k\", \"Memory total\": \"129720k\", \"apg memory\": \"93M\", \"count\": 2 } ] },\n",
    "            { \"IP\": [ { \"IP\": \"211.57.88.250\", \"count\": 8 }, { \"IP\": \"218.28.1.61\", \"count\": 16 }, { \"IP\": \"61.199.220.226\", \"count\": 16 } ], \"URL\": [ { \"URL\": \"p15105218.pureserver.info\", \"count\": 10 }, { \"URL\": \"iis.willowtec.com\", \"count\": 28 } ], \"memory\": [ { \"Memory available\": \"125312k\", \"Memory total\": \"129720k\", \"apg memory\": \"93M\", \"count\": 2 } ] },\n",
    "             { \"IP\": [ { \"IP\": \"211.57.88.250\", \"count\": 8 }, { \"IP\": \"218.28.1.61\", \"count\": 16 }, { \"IP\": \"61.199.220.226\", \"count\": 16 } ], \"URL\": [ { \"URL\": \"p15105218.pureserver.info\", \"count\": 10 }, { \"URL\": \"iis.willowtec.com\", \"count\": 28 } ], \"memory\": [ { \"Memory available\": \"125312k\", \"Memory total\": \"129720k\", \"apg memory\": \"93M\", \"count\": 2 } ] }\n",
    "            ]\n",
    "merged_dict = {\"IP\": [], \"URL\": [], \"memory\": []}\n",
    "ip_dict = {}\n",
    "url_dict = {}\n",
    "\n",
    "for data in datalist:\n",
    "    # merge IP and URL\n",
    "    for ip_entry in data.get(\"IP\", []):\n",
    "        if ip_entry[\"IP\"] in ip_dict:                       \n",
    "            ip_dict[ip_entry[\"IP\"]] += ip_entry[\"count\"]\n",
    "        else:\n",
    "            ip_dict[ip_entry[\"IP\"]] = ip_entry[\"count\"]\n",
    "    for url_entry in data.get(\"URL\", []):\n",
    "        if url_entry[\"URL\"] in url_dict:\n",
    "            url_dict[url_entry[\"URL\"]] += url_entry[\"count\"]\n",
    "        else:\n",
    "            url_dict[url_entry[\"URL\"]] = url_entry[\"count\"]\n",
    "    # merge memory\n",
    "    \n",
    "    # for memory_entry in data.get(\"memory\", []):\n",
    "        \n",
    "        \n",
    "\n",
    "print(ip_dict)\n",
    "print(url_dict)\n",
    "\n",
    "\n",
    "merged_dict[\"IP\"] = [{\"IP\": ip, \"count\": count} for ip, count in ip_dict.items()]\n",
    "merged_dict[\"URL\"] = [{\"URL\": url, \"count\": count} for url, count in url_dict.items()]\n",
    "\n",
    "print(merged_dict)"
   ]
  },
  {
   "cell_type": "markdown",
   "metadata": {},
   "source": [
    "# 去重\n"
   ]
  },
  {
   "cell_type": "code",
   "execution_count": 47,
   "metadata": {},
   "outputs": [],
   "source": [
    "import json\n",
    "with open(\"data/splited data/12-192x1024/result_human_Linux_1.json\", \"r\") as f:\n",
    "    data = json.load(f)"
   ]
  },
  {
   "cell_type": "code",
   "execution_count": 48,
   "metadata": {},
   "outputs": [
    {
     "name": "stdout",
     "output_type": "stream",
     "text": [
      "新的JSON文件已生成。\n"
     ]
    }
   ],
   "source": [
    "# 去重\n",
    "def remove_repeat(data):\n",
    "    data[\"IP\"] = list(set(data[\"IP\"]))\n",
    "    data[\"URL\"] = list(set(data[\"URL\"]))\n",
    "    return data\n",
    "\n",
    "new_data = remove_repeat(data)\n",
    "\n",
    "with open(\"data/splited data/12-192x1024/norepeat_result_human_Linux_1.json\", 'w', encoding='utf-8') as f:\n",
    "    json.dump(new_data, f, ensure_ascii=False, indent=4)\n",
    "\n",
    "print(\"新的JSON文件已生成。\")"
   ]
  },
  {
   "cell_type": "code",
   "execution_count": null,
   "metadata": {},
   "outputs": [],
   "source": []
  },
  {
   "cell_type": "markdown",
   "metadata": {},
   "source": [
    "# 添加正则匹配次数"
   ]
  },
  {
   "cell_type": "code",
   "execution_count": 69,
   "metadata": {},
   "outputs": [],
   "source": [
    "import json\n",
    "import re \n",
    "with open(\"data/splited data/18-128x1024/result_huaman_Linux_17.json\", \"r\") as f:\n",
    "    data = json.load(f)\n",
    "\n",
    "with open(\"data/splited data/18-128x1024/Linux_17.txt\", \"r\",errors='ignore') as f:\n",
    "    text = f.read()"
   ]
  },
  {
   "cell_type": "code",
   "execution_count": 70,
   "metadata": {},
   "outputs": [],
   "source": [
    "def count_occurrences(items,text):\n",
    "    result = {\"IP\":[],\"URL\":[],}\n",
    "    for item in items[\"IP\"]:\n",
    "        count = len(re.findall(item,text))\n",
    "        result[\"IP\"].append({\"IP\":item,\"count\":count})\n",
    "    for item in items[\"URL\"]:\n",
    "        count = len(re.findall(item,text))\n",
    "        result[\"URL\"].append({\"URL\":item,\"count\":count})\n",
    "    return result"
   ]
  },
  {
   "cell_type": "code",
   "execution_count": 71,
   "metadata": {},
   "outputs": [],
   "source": [
    "new_data = {\n",
    "    \"IP\": count_occurrences(data, text)[\"IP\"],\n",
    "    \"URL\": count_occurrences(data, text)[\"URL\"],\n",
    "    \"Memory\": []\n",
    "}"
   ]
  },
  {
   "cell_type": "code",
   "execution_count": 72,
   "metadata": {},
   "outputs": [
    {
     "name": "stdout",
     "output_type": "stream",
     "text": [
      "新的JSON文件已生成。\n"
     ]
    }
   ],
   "source": [
    "with open(\"data/splited data/18-128x1024/new_result_huaman_Linux_17.json\", 'w', encoding='utf-8') as f:\n",
    "    json.dump(new_data, f, ensure_ascii=False, indent=4)\n",
    "\n",
    "print(\"新的JSON文件已生成。\")"
   ]
  },
  {
   "cell_type": "markdown",
   "metadata": {},
   "source": []
  },
  {
   "cell_type": "code",
   "execution_count": null,
   "metadata": {},
   "outputs": [],
   "source": []
  },
  {
   "cell_type": "markdown",
   "metadata": {},
   "source": [
    "# get bad case"
   ]
  },
  {
   "cell_type": "code",
   "execution_count": 16,
   "metadata": {},
   "outputs": [],
   "source": [
    "def get_bad_case(result_predict, result_standard):\n",
    "    \"\"\"get miss extracted IPs and URL for predict result from standard result\"\"\"\n",
    "    miss_ip = set(result_predict[\"IP\"].keys()) - set(result_standard[\"IP\"].keys())\n",
    "    miss_url = set(result_predict[\"URL\"].keys()) - set(result_standard[\"URL\"].keys())\n",
    "    return {\"IP\": list(miss_ip), \"URL\": list(miss_url)}\n",
    "\n",
    "\n",
    "def get_miss_ccase(result_predict, result_standard):\n",
    "    '''get bad cased extracted from IPs and URLs for predict result from standard result'''\n",
    "    bad_ip = set(result_predict[\"IP\"].keys()) - set(result_standard[\"IP\"].keys())\n",
    "    bad_url = set(result_predict[\"URL\"].keys()) - set(result_standard[\"URL\"].keys())\n",
    "    return {\"IP\": list(bad_ip), \"URL\": list(bad_url)}\n",
    "\n",
    "def load_json(file_path):\n",
    "    with open(file_path, \"r\") as f:\n",
    "        data = json.load(f)\n",
    "    return data"
   ]
  },
  {
   "cell_type": "code",
   "execution_count": null,
   "metadata": {},
   "outputs": [],
   "source": [
    "llm_result = load_json(\"result/result_2024-09-03_14-46-46_counts/inference_output/output0.json\")\n",
    "human_result = load_json(\"data/splited data/12-192x1024/new_result_human_Linux_1.json\")"
   ]
  },
  {
   "cell_type": "code",
   "execution_count": 9,
   "metadata": {},
   "outputs": [],
   "source": [
    "from utils.utiles import merge_json_files\n",
    "merge_json_files(\"result/result_2024-09-11_15-37-44_128k_all_file_infer and eval/inference_output\",\"result/result_2024-09-11_15-37-44_128k_all_file_infer and eval/inference_output/merged.json\")"
   ]
  },
  {
   "cell_type": "code",
   "execution_count": 2,
   "metadata": {},
   "outputs": [
    {
     "name": "stdout",
     "output_type": "stream",
     "text": [
      "[]\n"
     ]
    }
   ],
   "source": [
    "import re\n",
    "llm_url_list = [\"62.99.164.82.sh.interxion.inode.at\"]\n",
    "ip_in_url = []\n",
    "ip_pattern = r'^\\b(?:\\d{1,3}\\.){3}\\d{1,3}\\b$'\n",
    "for i in llm_url_list:\n",
    "    if re.match(ip_pattern, i):\n",
    "        ip_in_url.append(i)\n",
    "print(ip_in_url)"
   ]
  },
  {
   "cell_type": "code",
   "execution_count": 20,
   "metadata": {},
   "outputs": [
    {
     "data": {
      "image/png": "[encoded data removed]",
      "text/plain": [
       "<Figure size 640x480 with 1 Axes>"
      ]
     },
     "metadata": {},
     "output_type": "display_data"
    }
   ],
   "source": [
    "import matplotlib.pyplot as plt\n",
    "import numpy as np\n",
    "\n",
    "# IP precision\n",
    "# x: chunk size\n",
    "labels = [\"192k\",\"128k\"]\n",
    "\n",
    "count = [0.899,0.797]\n",
    "correct_count = [0.984-0.899, 0.987-0.797]\n",
    "extraction = [0.872,0.755]\n",
    "correct_extraction = [0.991-0.872,0.994-0.755]\n",
    "\n",
    "x = np.arange(len(labels)) # the label locations\n",
    "width = 0.3  # the width of the bars\n",
    "\n",
    "fig, ax = plt.subplots()\n",
    "\n",
    "\n",
    "rects1 = ax.bar(x - width/2, count, width, label='Count')\n",
    "rects2 = ax.bar(x + width/2, extraction, width, label='Extraction')\n",
    "rects3 = ax.bar(x - width/2, correct_count,width,bottom=count, label='Correction')\n",
    "rects4 = ax.bar(x + width/2, correct_extraction,width,bottom=extraction, label='Correction')\n",
    "\n",
    "\n",
    "# Add some text for labels, title and custom x-axis tick labels, etc.\n",
    "ax.set_ylabel('IP Precision')\n",
    "ax.set_xlabel('Chunk Size')\n",
    "ax.set_title('IP Precision by Chunk Size')\n",
    "ax.set_xticks(x,labels)\n",
    "ax.legend(loc = \"lower right\")\n",
    "\n",
    "\n",
    "\n",
    "ax.bar_label(rects1, padding=3)\n",
    "ax.bar_label(rects2, padding=3)\n",
    "ax.bar_label(rects3, padding=3)\n",
    "ax.bar_label(rects4, padding=3)\n",
    "\n",
    "fig.tight_layout()\n",
    "plt.ylim(ymin=0.5)\n",
    "plt.show()"
   ]
  },
  {
   "cell_type": "code",
   "execution_count": null,
   "metadata": {},
   "outputs": [],
   "source": [
    "from anthropic import AnthropicVertex\n",
    "\n",
    "LOCATION=\"europe-west1\" # or \"us-east5\"\n",
    "project_id=\"log-analysis-433902\"\n",
    "\n",
    "client = AnthropicVertex(region=LOCATION, project_id=\"log-analysis-433902\")\n",
    "\n",
    "message = client.messages.create(\n",
    "  max_tokens=1024,\n",
    "  messages=[\n",
    "    {\n",
    "      \"role\": \"user\",\n",
    "      \"content\": \"Send me a recipe for banana bread.\",\n",
    "    }\n",
    "  ],\n",
    "  model=\"claude-3-5-sonnet@20240620\",\n",
    ")\n",
    "print(message.model_dump_json(indent=2))"
   ]
  }
 ],
 "metadata": {
  "kernelspec": {
   "display_name": "log-ex",
   "language": "python",
   "name": "python3"
  },
  "language_info": {
   "codemirror_mode": {
    "name": "ipython",
    "version": 3
   },
   "file_extension": ".py",
   "mimetype": "text/x-python",
   "name": "python",
   "nbconvert_exporter": "python",
   "pygments_lexer": "ipython3",
   "version": "3.10.14"
  }
 },
 "nbformat": 4,
 "nbformat_minor": 2
}
